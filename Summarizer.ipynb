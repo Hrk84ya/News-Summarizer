{
  "cells": [
    {
      "cell_type": "code",
      "execution_count": null,
      "metadata": {},
      "outputs": [],
      "source": [
        "#install the required libraries\n",
        "pip install transformers torch"
      ]
    },
    {
      "cell_type": "code",
      "execution_count": 4,
      "metadata": {
        "colab": {
          "base_uri": "https://localhost:8080/"
        },
        "id": "gjGhAE9q-Nwa",
        "outputId": "2060dbf4-8e82-419a-8875-618a3d452853"
      },
      "outputs": [
        {
          "name": "stdout",
          "output_type": "stream",
          "text": [
            "Summary:\n",
            "Scientists warn that we are facing unprecedented levels of global warming. Extreme weather events are becoming more frequent and severe. Polar ice caps are melting at an accelerated rate. The report calls for urgent action to reduce carbon emissions and transition to renewable energy sources.\n"
          ]
        }
      ],
      "source": [
        "from transformers import pipeline\n",
        "\n",
        "#function to summarize the text\n",
        "def summarize_text(text, model_name='facebook/bart-large-cnn'):\n",
        "    \"\"\"\n",
        "    Summarize the given article using a pre-trained summarization model.\n",
        "\n",
        "    :param text: The text to be summarized.\n",
        "    :param model_name: The name of the pre-trained model to use for summarization.\n",
        "    :return: The summarized text.\n",
        "    \"\"\"\n",
        "    # Load the summarization pipeline with the specified model\n",
        "    summarizer = pipeline(\"summarization\", model=model_name)\n",
        "\n",
        "    # Generate the summary\n",
        "    summary = summarizer(text, max_length=64, min_length=50, do_sample=False) #change the max_length and min_length as required\n",
        "\n",
        "    # Extract and return the summarized text\n",
        "    return summary[0]['summary_text']\n",
        "\n",
        "if __name__ == \"__main__\":\n",
        "    # Example news article text\n",
        "    news_article = \"\"\"\n",
        "    The recent climate report has revealed alarming findings about the state of our planet.\n",
        "    Scientists warn that we are facing unprecedented levels of global warming and environmental\n",
        "    degradation. Extreme weather events are becoming more frequent and severe, and polar ice caps\n",
        "    are melting at an accelerated rate. The report calls for urgent action to reduce carbon emissions\n",
        "    and transition to renewable energy sources. World leaders are urged to take immediate and decisive\n",
        "    steps to combat climate change and mitigate its effects on ecosystems and human societies.\n",
        "    \"\"\"\n",
        "\n",
        "    # Summarize the news article\n",
        "    summary = summarize_text(news_article)\n",
        "\n",
        "    # Print the summary\n",
        "    print(\"Summary:\")\n",
        "    print(summary)\n"
      ]
    },
    {
      "cell_type": "code",
      "execution_count": null,
      "metadata": {
        "id": "QZfehAFp-ptl"
      },
      "outputs": [],
      "source": []
    }
  ],
  "metadata": {
    "colab": {
      "provenance": []
    },
    "kernelspec": {
      "display_name": "Python 3",
      "name": "python3"
    },
    "language_info": {
      "name": "python"
    }
  },
  "nbformat": 4,
  "nbformat_minor": 0
}
